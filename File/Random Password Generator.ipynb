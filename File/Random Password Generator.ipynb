{
 "cells": [
  {
   "cell_type": "code",
   "execution_count": 10,
   "id": "d7925dbf",
   "metadata": {},
   "outputs": [],
   "source": [
    "#Imporing The Modules\n",
    "from tkinter import *\n",
    "import random, string\n",
    "import pyperclip3\n",
    "from tkinter import messagebox;\n",
    "\n",
    "def actionauthor():\n",
    "    messagebox.showinfo(\"Developer\", \"Ayush Mohanty\")\n",
    "\n",
    "#Initialize Window\n",
    "root =Tk()\n",
    "root.geometry(\"400x400\")\n",
    "\n",
    "#root.resizable(0,0)\n",
    "root.title(\"RANDOM PASSWORD GENERATOR\")\n",
    "\n",
    "#Heading\n",
    "heading = Label(root, text = 'GENERATE YOUR PASSWORD' , font ='arial 19 bold').pack()\n",
    "Label(root, text ='Thank You for using !!', font ='arial 9').pack(side = BOTTOM)\n",
    "\n",
    "#Genererate Space between the Title and Label\n",
    "pass_lab1 = Label(root).pack()\n",
    "pass_lab2 = Label(root).pack()\n",
    "pass_lab3 = Label(root).pack()\n",
    "\n",
    "#Select Password Length\n",
    "pass_label = Label(root, text = 'PASSWORD LENGTH', font = 'arial 10 bold').pack()\n",
    "pass_len = IntVar()\n",
    "length = Spinbox(root, from_ = 6, to_ = 40 , textvariable = pass_len , width = 15).pack()\n",
    "\n",
    "#Define Function\n",
    "pass_str = StringVar()\n",
    "def Generator():\n",
    "    password = ''\n",
    "    for x in range (0,4):\n",
    "        password = random.choice(string.ascii_uppercase)+random.choice(string.ascii_lowercase)+random.choice(string.digits)+random.choice(string.punctuation)\n",
    "    for y in range(pass_len.get()- 4):\n",
    "        password = password+random.choice(string.ascii_uppercase + string.ascii_lowercase + string.digits + string.punctuation)\n",
    "    pass_str.set(password)\n",
    "\n",
    "#Button\n",
    "Button(root, text = \"GENERATE PASSWORD\" , command = Generator ).pack(pady= 5)\n",
    "Entry(root , textvariable = pass_str).pack()\n",
    "\n",
    "#Function To Copy\n",
    "def Copy_password():\n",
    "    pyperclip3.copy(pass_str.get())\n",
    "Button(root, text = 'COPY TO CLIPBOARD', command = Copy_password).pack(pady=5)\n",
    "\n",
    "#Author Button\n",
    "authorbutton = Button(root, text='Developer', width=8, command = actionauthor);\n",
    "authorbutton.place(relx = 0.5, rely=0.91, anchor='center');\n",
    "\n",
    "#Loop To Run Program\n",
    "root.mainloop()"
   ]
  },
  {
   "cell_type": "code",
   "execution_count": null,
   "id": "1fe59c49",
   "metadata": {},
   "outputs": [],
   "source": []
  }
 ],
 "metadata": {
  "kernelspec": {
   "display_name": "Python 3 (ipykernel)",
   "language": "python",
   "name": "python3"
  },
  "language_info": {
   "codemirror_mode": {
    "name": "ipython",
    "version": 3
   },
   "file_extension": ".py",
   "mimetype": "text/x-python",
   "name": "python",
   "nbconvert_exporter": "python",
   "pygments_lexer": "ipython3",
   "version": "3.10.9"
  }
 },
 "nbformat": 4,
 "nbformat_minor": 5
}
